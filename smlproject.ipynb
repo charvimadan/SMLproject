{
  "cells": [
    {
      "cell_type": "markdown",
      "metadata": {
        "id": "aa907707"
      },
      "source": [
        "#DS-5220: Supervised Machine Learning Final Project\n",
        "#Charvi Madan\n",
        "#NUID-002107664"
      ],
      "id": "aa907707"
    },
    {
      "cell_type": "markdown",
      "metadata": {
        "id": "b90fe29a"
      },
      "source": [
        "# Importing the libraries"
      ],
      "id": "b90fe29a"
    },
    {
      "cell_type": "code",
      "execution_count": 1,
      "metadata": {
        "id": "bc3de9ca"
      },
      "outputs": [],
      "source": [
        "import torchvision\n",
        "import torch\n",
        "import numpy as np\n",
        "from torch import nn\n",
        "from torchvision import transforms\n",
        "from torch.utils.data import DataLoader\n",
        "import torch.nn.functional as F\n",
        "import torch.optim as optim\n",
        "import time\n",
        "import pandas as pd\n",
        "import torchvision.datasets as datasets\n",
        "from IPython import display\n",
        "import matplotlib.pyplot as plt\n",
        "import torchvision.transforms"
      ],
      "id": "bc3de9ca"
    },
    {
      "cell_type": "code",
      "execution_count": 2,
      "metadata": {
        "colab": {
          "base_uri": "https://localhost:8080/"
        },
        "id": "BY7hfEj-avHC",
        "outputId": "9e352ab3-c55b-46a4-fd04-63604c30a0e4"
      },
      "outputs": [
        {
          "output_type": "stream",
          "name": "stdout",
          "text": [
            "Requirement already satisfied: torchvision in /usr/local/lib/python3.7/dist-packages (0.12.0+cu113)\n",
            "Requirement already satisfied: requests in /usr/local/lib/python3.7/dist-packages (from torchvision) (2.23.0)\n",
            "Requirement already satisfied: typing-extensions in /usr/local/lib/python3.7/dist-packages (from torchvision) (4.2.0)\n",
            "Requirement already satisfied: pillow!=8.3.*,>=5.3.0 in /usr/local/lib/python3.7/dist-packages (from torchvision) (7.1.2)\n",
            "Requirement already satisfied: torch==1.11.0 in /usr/local/lib/python3.7/dist-packages (from torchvision) (1.11.0+cu113)\n",
            "Requirement already satisfied: numpy in /usr/local/lib/python3.7/dist-packages (from torchvision) (1.21.6)\n",
            "Requirement already satisfied: idna<3,>=2.5 in /usr/local/lib/python3.7/dist-packages (from requests->torchvision) (2.10)\n",
            "Requirement already satisfied: urllib3!=1.25.0,!=1.25.1,<1.26,>=1.21.1 in /usr/local/lib/python3.7/dist-packages (from requests->torchvision) (1.24.3)\n",
            "Requirement already satisfied: certifi>=2017.4.17 in /usr/local/lib/python3.7/dist-packages (from requests->torchvision) (2021.10.8)\n",
            "Requirement already satisfied: chardet<4,>=3.0.2 in /usr/local/lib/python3.7/dist-packages (from requests->torchvision) (3.0.4)\n"
          ]
        }
      ],
      "source": [
        "!pip install torchvision"
      ],
      "id": "BY7hfEj-avHC"
    },
    {
      "cell_type": "markdown",
      "source": [
        "# Defined batch size and loaded dataset to dataloader\n"
      ],
      "metadata": {
        "id": "6NkI12T5tHOF"
      },
      "id": "6NkI12T5tHOF"
    },
    {
      "cell_type": "code",
      "execution_count": 3,
      "metadata": {
        "colab": {
          "base_uri": "https://localhost:8080/",
          "height": 101,
          "referenced_widgets": [
            "ef2c1ce2507c413a917007b047d68f15",
            "6150440238884068b67a400eed40a978",
            "0fdca33454b34926a1b65f1c5917542e",
            "6aa9d907a2a74f4a8d6f9d29d3874474",
            "5e4d0e015443447ca1f84f38612441b5",
            "46c62cc4ffa8442ebde4029783501c82",
            "fbe70028e3c746e688d5a47c74b0ec4e",
            "88934cfb0fa14964aadedb863e0a1189",
            "53e46d85df7b467789e779bbb7b12c7e",
            "89f837d878f24f71b5c5add5eff33731",
            "8343ab71988d432da7aae5cced7c9d15"
          ]
        },
        "id": "c4f5d6a5",
        "outputId": "8840d94b-fa6e-437e-bcbb-c25295174062"
      },
      "outputs": [
        {
          "output_type": "stream",
          "name": "stdout",
          "text": [
            "Downloading https://www.cs.toronto.edu/~kriz/cifar-10-python.tar.gz to data/cifar-10-python.tar.gz\n"
          ]
        },
        {
          "output_type": "display_data",
          "data": {
            "text/plain": [
              "  0%|          | 0/170498071 [00:00<?, ?it/s]"
            ],
            "application/vnd.jupyter.widget-view+json": {
              "version_major": 2,
              "version_minor": 0,
              "model_id": "ef2c1ce2507c413a917007b047d68f15"
            }
          },
          "metadata": {}
        },
        {
          "output_type": "stream",
          "name": "stdout",
          "text": [
            "Extracting data/cifar-10-python.tar.gz to data\n",
            "Files already downloaded and verified\n"
          ]
        }
      ],
      "source": [
        "batch_size = 32\n",
        "transform = transforms.Compose([transforms.Resize(64), transforms.ToTensor(),\n",
        "    transforms.Normalize(mean=[0.485, 0.456, 0.406], std=[0.229, 0.224, 0.225])])\n",
        "\n",
        "train_ds = DataLoader(datasets.CIFAR10(\"data\", train=True, transform=transform, download=True), batch_size=batch_size)\n",
        "test_ds = DataLoader(datasets.CIFAR10(\"data\", train=False, transform=transform, download=True), batch_size=batch_size)\n"
      ],
      "id": "c4f5d6a5"
    },
    {
      "cell_type": "markdown",
      "source": [
        "#Defining the Convolution Neural Network Model \n"
      ],
      "metadata": {
        "id": "lTHxVwKxvKTK"
      },
      "id": "lTHxVwKxvKTK"
    },
    {
      "cell_type": "code",
      "execution_count": 4,
      "metadata": {
        "id": "72c4c63f"
      },
      "outputs": [],
      "source": [
        "class CNNModel(nn.Module):\n",
        "    \n",
        "    def __init__(self, num_classes):\n",
        "        super(CNNModel, self).__init__()\n",
        "        self.features = nn.Sequential(\n",
        "            nn.Conv2d(3, 32, kernel_size=3, padding=1),\n",
        "            nn.ReLU(),\n",
        "            nn.MaxPool2d(kernel_size=2, stride=2),\n",
        "            nn.Conv2d(32, 64, kernel_size=3, padding=1),\n",
        "            nn.ReLU(),\n",
        "            nn.MaxPool2d(kernel_size=2, stride=2),\n",
        "            nn.Conv2d(64, 128, kernel_size=3, padding=1),\n",
        "            nn.ReLU(),\n",
        "            nn.MaxPool2d(kernel_size=2, stride=2),\n",
        "            nn.Conv2d(128, 256, kernel_size=3, padding=1),\n",
        "            nn.ReLU(),\n",
        "            nn.MaxPool2d(kernel_size=2, stride=2)\n",
        "        )\n",
        "        self.avgpool = nn.AdaptiveAvgPool2d((4, 4))\n",
        "        self.classifier = nn.Sequential(\n",
        "            nn.Dropout(),\n",
        "            nn.Linear(256 * 4 * 4, 2048),\n",
        "            nn.ReLU(),\n",
        "            nn.Dropout(),\n",
        "            nn.Linear(2048, 1024),\n",
        "            nn.ReLU(),\n",
        "            nn.Linear(1024, num_classes)\n",
        "        )\n",
        "    \n",
        "    def forward(self, x):\n",
        "        x = self.features(x)\n",
        "        x = self.avgpool(x)\n",
        "        x = torch.flatten(x, 1)\n",
        "        x = self.classifier(x)\n",
        "        return x"
      ],
      "id": "72c4c63f"
    },
    {
      "cell_type": "code",
      "source": [
        ""
      ],
      "metadata": {
        "id": "QFL9vgV4n7ft"
      },
      "id": "QFL9vgV4n7ft",
      "execution_count": 4,
      "outputs": []
    },
    {
      "cell_type": "markdown",
      "source": [
        "# initialsed the model "
      ],
      "metadata": {
        "id": "vbk5EJuWn-Dx"
      },
      "id": "vbk5EJuWn-Dx"
    },
    {
      "cell_type": "code",
      "execution_count": 5,
      "metadata": {
        "id": "0b9a14fe"
      },
      "outputs": [],
      "source": [
        "model = CNNModel(num_classes=10)"
      ],
      "id": "0b9a14fe"
    },
    {
      "cell_type": "markdown",
      "source": [
        "Choosing the ADAM optimizer and Cross entropy loss function"
      ],
      "metadata": {
        "id": "r1woIVTPvaN9"
      },
      "id": "r1woIVTPvaN9"
    },
    {
      "cell_type": "code",
      "execution_count": 6,
      "metadata": {
        "id": "05e4991e"
      },
      "outputs": [],
      "source": [
        "optimizer = optim.Adam(model.parameters(), lr=0.001)\n",
        "loss_fn = nn.CrossEntropyLoss()"
      ],
      "id": "05e4991e"
    },
    {
      "cell_type": "code",
      "execution_count": 7,
      "metadata": {
        "colab": {
          "base_uri": "https://localhost:8080/"
        },
        "id": "b2e8c108",
        "outputId": "d29396c2-6e7e-4ae4-e680-a503a132b421"
      },
      "outputs": [
        {
          "output_type": "execute_result",
          "data": {
            "text/plain": [
              "CNNModel(\n",
              "  (features): Sequential(\n",
              "    (0): Conv2d(3, 32, kernel_size=(3, 3), stride=(1, 1), padding=(1, 1))\n",
              "    (1): ReLU()\n",
              "    (2): MaxPool2d(kernel_size=2, stride=2, padding=0, dilation=1, ceil_mode=False)\n",
              "    (3): Conv2d(32, 64, kernel_size=(3, 3), stride=(1, 1), padding=(1, 1))\n",
              "    (4): ReLU()\n",
              "    (5): MaxPool2d(kernel_size=2, stride=2, padding=0, dilation=1, ceil_mode=False)\n",
              "    (6): Conv2d(64, 128, kernel_size=(3, 3), stride=(1, 1), padding=(1, 1))\n",
              "    (7): ReLU()\n",
              "    (8): MaxPool2d(kernel_size=2, stride=2, padding=0, dilation=1, ceil_mode=False)\n",
              "    (9): Conv2d(128, 256, kernel_size=(3, 3), stride=(1, 1), padding=(1, 1))\n",
              "    (10): ReLU()\n",
              "    (11): MaxPool2d(kernel_size=2, stride=2, padding=0, dilation=1, ceil_mode=False)\n",
              "  )\n",
              "  (avgpool): AdaptiveAvgPool2d(output_size=(4, 4))\n",
              "  (classifier): Sequential(\n",
              "    (0): Dropout(p=0.5, inplace=False)\n",
              "    (1): Linear(in_features=4096, out_features=2048, bias=True)\n",
              "    (2): ReLU()\n",
              "    (3): Dropout(p=0.5, inplace=False)\n",
              "    (4): Linear(in_features=2048, out_features=1024, bias=True)\n",
              "    (5): ReLU()\n",
              "    (6): Linear(in_features=1024, out_features=10, bias=True)\n",
              "  )\n",
              ")"
            ]
          },
          "metadata": {},
          "execution_count": 7
        }
      ],
      "source": [
        "if torch.cuda.is_available():\n",
        "    device = torch.device(\"cuda\") \n",
        "else:\n",
        "    device = torch.device(\"cpu\")\n",
        "\n",
        "model.to(device)"
      ],
      "id": "b2e8c108"
    },
    {
      "cell_type": "markdown",
      "source": [
        "Creating the training function and time stamps for each epochs"
      ],
      "metadata": {
        "id": "exwUsgOqvi_z"
      },
      "id": "exwUsgOqvi_z"
    },
    {
      "cell_type": "code",
      "execution_count": 8,
      "metadata": {
        "id": "0734f4b7"
      },
      "outputs": [],
      "source": [
        "import time\n",
        "\n",
        "def train(model, optimizer, loss_fn, train_dl, val_dl, epochs=100, device='cpu'):\n",
        "\n",
        "    print('train() called: model=%s, opt=%s(lr=%f), epochs=%d, device=%s\\n' % \\\n",
        "          (type(model).__name__, type(optimizer).__name__,\n",
        "           optimizer.param_groups[0]['lr'], epochs, device))\n",
        "\n",
        "    dictCNN = {} # Collects per-epoch loss and acc like Keras' fit().\n",
        "    dictCNN['loss'] = []\n",
        "    dictCNN['val_loss'] = []\n",
        "    dictCNN['acc'] = []\n",
        "    dictCNN['val_acc'] = []\n",
        "\n",
        "    start_time_sec = time.time()\n",
        "\n",
        "    for epoch in range(1, epochs+1):\n",
        "\n",
        "        # --- TRAIN AND EVALUATE ON TRAINING SET -----------------------------\n",
        "        model.train()\n",
        "        train_loss         = 0.0\n",
        "        num_train_correct  = 0\n",
        "        num_train_examples = 0\n",
        "\n",
        "        for batch in train_dl:\n",
        "\n",
        "            optimizer.zero_grad()\n",
        "\n",
        "            x    = batch[0].to(device)\n",
        "            y    = batch[1].to(device)\n",
        "            yhat = model(x)\n",
        "            loss = loss_fn(yhat, y)\n",
        "\n",
        "            loss.backward()\n",
        "            optimizer.step()\n",
        "\n",
        "            train_loss         += loss.data.item() * x.size(0)\n",
        "            num_train_correct  += (torch.max(yhat, 1)[1] == y).sum().item()\n",
        "            num_train_examples += x.shape[0]\n",
        "\n",
        "        train_acc   = num_train_correct / num_train_examples\n",
        "        train_loss  = train_loss / len(train_dl.dataset)\n",
        "\n",
        "\n",
        "        # --- EVALUATE ON VALIDATION SET -------------------------------------\n",
        "        model.eval()\n",
        "        val_loss       = 0.0\n",
        "        num_val_correct  = 0\n",
        "        num_val_examples = 0\n",
        "\n",
        "        for batch in val_dl:\n",
        "\n",
        "            x    = batch[0].to(device)\n",
        "            y    = batch[1].to(device)\n",
        "            yhat = model(x)\n",
        "            loss = loss_fn(yhat, y)\n",
        "\n",
        "            val_loss         += loss.data.item() * x.size(0)\n",
        "            num_val_correct  += (torch.max(yhat, 1)[1] == y).sum().item()\n",
        "            num_val_examples += y.shape[0]\n",
        "\n",
        "        val_acc  = num_val_correct / num_val_examples\n",
        "        val_loss = val_loss / len(val_dl.dataset)\n",
        "\n",
        "\n",
        "        if epoch == 1 or epoch % 2 == 0:\n",
        "          print('Epoch %3d/%3d, train loss: %5.2f, train acc: %5.2f, val loss: %5.2f, val acc: %5.2f' % \\\n",
        "                (epoch, epochs, train_loss, train_acc, val_loss, val_acc))\n",
        "\n",
        "        dictCNN['loss'].append(train_loss)\n",
        "        dictCNN['val_loss'].append(val_loss)\n",
        "        dictCNN['acc'].append(train_acc)\n",
        "        dictCNN['val_acc'].append(val_acc)\n",
        "\n",
        "    # END OF TRAINING LOOP\n",
        "\n",
        "\n",
        "    end_time_sec       = time.time()\n",
        "    total_time_sec     = end_time_sec - start_time_sec\n",
        "    time_per_epoch_sec = total_time_sec / epochs\n",
        "    print()\n",
        "    print('Time total:     %5.2f sec' % (total_time_sec))\n",
        "    print('Time per epoch: %5.2f sec' % (time_per_epoch_sec))\n",
        "\n",
        "    return dictCNN"
      ],
      "id": "0734f4b7"
    },
    {
      "cell_type": "code",
      "execution_count": 9,
      "metadata": {
        "colab": {
          "base_uri": "https://localhost:8080/"
        },
        "id": "68a0739d",
        "outputId": "2da4969a-430b-4950-82fa-33dc16914b29"
      },
      "outputs": [
        {
          "output_type": "stream",
          "name": "stdout",
          "text": [
            "train() called: model=CNNModel, opt=Adam(lr=0.001000), epochs=20, device=cuda\n",
            "\n",
            "Epoch   1/ 20, train loss:  1.47, train acc:  0.46, val loss:  1.15, val acc:  0.59\n",
            "Epoch   2/ 20, train loss:  1.11, train acc:  0.61, val loss:  0.92, val acc:  0.68\n",
            "Epoch   4/ 20, train loss:  0.87, train acc:  0.70, val loss:  0.80, val acc:  0.73\n",
            "Epoch   6/ 20, train loss:  0.77, train acc:  0.73, val loss:  0.73, val acc:  0.75\n",
            "Epoch   8/ 20, train loss:  0.70, train acc:  0.76, val loss:  0.66, val acc:  0.77\n",
            "Epoch  10/ 20, train loss:  0.64, train acc:  0.78, val loss:  0.71, val acc:  0.76\n",
            "Epoch  12/ 20, train loss:  0.61, train acc:  0.79, val loss:  0.73, val acc:  0.75\n",
            "Epoch  14/ 20, train loss:  0.58, train acc:  0.80, val loss:  0.64, val acc:  0.78\n",
            "Epoch  16/ 20, train loss:  0.55, train acc:  0.81, val loss:  0.64, val acc:  0.78\n",
            "Epoch  18/ 20, train loss:  0.53, train acc:  0.82, val loss:  0.65, val acc:  0.78\n",
            "Epoch  20/ 20, train loss:  0.50, train acc:  0.83, val loss:  0.64, val acc:  0.79\n",
            "\n",
            "Time total:     1601.66 sec\n",
            "Time per epoch: 80.08 sec\n"
          ]
        }
      ],
      "source": [
        "clf = train(model, optimizer,torch.nn.CrossEntropyLoss(), train_ds,test_ds, epochs=20, device=device)"
      ],
      "id": "68a0739d"
    },
    {
      "cell_type": "markdown",
      "source": [
        "#Visualizing the model "
      ],
      "metadata": {
        "id": "0dJjX2B0vtd0"
      },
      "id": "0dJjX2B0vtd0"
    },
    {
      "cell_type": "code",
      "execution_count": 10,
      "metadata": {
        "colab": {
          "base_uri": "https://localhost:8080/",
          "height": 545
        },
        "id": "ebae662f",
        "outputId": "bfda2e91-af81-46e9-fa90-1a75c258aae8"
      },
      "outputs": [
        {
          "output_type": "display_data",
          "data": {
            "text/plain": [
              "<Figure size 432x288 with 1 Axes>"
            ],
            "image/png": "[encoded data removed]"
          },
          "metadata": {
            "needs_background": "light"
          }
        },
        {
          "output_type": "display_data",
          "data": {
            "text/plain": [
              "<Figure size 432x288 with 1 Axes>"
            ],
            "image/png": "[encoded data removed]"
          },
          "metadata": {
            "needs_background": "light"
          }
        }
      ],
      "source": [
        "import matplotlib.pyplot as plt\n",
        "\n",
        "acc = clf['acc']\n",
        "val_acc = clf['val_acc']\n",
        "loss = clf['loss']\n",
        "val_loss = clf['val_loss']\n",
        "epochs = range(1, len(acc) + 1)\n",
        "\n",
        "plt.plot(epochs, acc, 'r', label='Training acc')\n",
        "plt.plot(epochs, val_acc, 'g', label='Validation acc')\n",
        "plt.title('Training and validation accuracy')\n",
        "plt.legend()\n",
        "plt.figure()\n",
        "plt.plot(epochs, loss, 'r', label='Training loss')\n",
        "plt.plot(epochs, val_loss, 'g', label='Validation loss')\n",
        "plt.title('Training and validation loss')\n",
        "plt.legend()\n",
        "plt.show()"
      ],
      "id": "ebae662f"
    },
    {
      "cell_type": "markdown",
      "source": [
        "#defining the DNN model"
      ],
      "metadata": {
        "id": "DlTKgxquvzKn"
      },
      "id": "DlTKgxquvzKn"
    },
    {
      "cell_type": "code",
      "execution_count": 11,
      "metadata": {
        "id": "36f60700"
      },
      "outputs": [],
      "source": [
        "\n",
        "class DNNModel(nn.Module):\n",
        "    \n",
        "    def __init__(self, num_classes):\n",
        "        super(DNNModel, self).__init__()\n",
        "        self.features = nn.Sequential(\n",
        "            nn.Linear(64*64*3,4096),\n",
        "            nn.ReLU(),\n",
        "            nn.Linear(4096,4096),\n",
        "            nn.ReLU(),\n",
        "            nn.Linear(4096,2048),\n",
        "            nn.ReLU(),\n",
        "            nn.Linear(2048,num_classes),\n",
        "            nn.ReLU()\n",
        "        )\n",
        "\n",
        "    \n",
        "    def forward(self, x):\n",
        "        x = torch.flatten(x, 1)\n",
        "        x = self.features(x)\n",
        "        return x   \n",
        "        "
      ],
      "id": "36f60700"
    },
    {
      "cell_type": "markdown",
      "source": [
        "#Initializing the model \n",
        "\n"
      ],
      "metadata": {
        "id": "WCRXbuBbv3UC"
      },
      "id": "WCRXbuBbv3UC"
    },
    {
      "cell_type": "code",
      "execution_count": 12,
      "metadata": {
        "colab": {
          "base_uri": "https://localhost:8080/"
        },
        "id": "6485bebb",
        "outputId": "57c91a6d-8dc9-4d4b-eaf6-3043f30057ae"
      },
      "outputs": [
        {
          "output_type": "execute_result",
          "data": {
            "text/plain": [
              "DNNModel(\n",
              "  (features): Sequential(\n",
              "    (0): Linear(in_features=12288, out_features=4096, bias=True)\n",
              "    (1): ReLU()\n",
              "    (2): Linear(in_features=4096, out_features=4096, bias=True)\n",
              "    (3): ReLU()\n",
              "    (4): Linear(in_features=4096, out_features=2048, bias=True)\n",
              "    (5): ReLU()\n",
              "    (6): Linear(in_features=2048, out_features=10, bias=True)\n",
              "    (7): ReLU()\n",
              "  )\n",
              ")"
            ]
          },
          "metadata": {},
          "execution_count": 12
        }
      ],
      "source": [
        "model1 = DNNModel(num_classes = 10)\n",
        "\n",
        "if torch.cuda.is_available():\n",
        "    device = torch.device(\"cuda\") \n",
        "else:\n",
        "    device = torch.device(\"cpu\")\n",
        "\n",
        "model1.to(device)"
      ],
      "id": "6485bebb"
    },
    {
      "cell_type": "markdown",
      "source": [
        "choosing the stochastic gradient descent optimizer and Cross entropy loss function \n"
      ],
      "metadata": {
        "id": "_NvPGwp3wZQr"
      },
      "id": "_NvPGwp3wZQr"
    },
    {
      "cell_type": "code",
      "execution_count": 13,
      "metadata": {
        "id": "601107dd"
      },
      "outputs": [],
      "source": [
        "learningRate = 0.001\n",
        "optimizer = torch.optim.SGD(model1.parameters(), lr=learningRate)"
      ],
      "id": "601107dd"
    },
    {
      "cell_type": "code",
      "execution_count": 14,
      "metadata": {
        "colab": {
          "base_uri": "https://localhost:8080/"
        },
        "id": "4c692827",
        "outputId": "b00fd735-2e7e-4949-e1be-bd7a7e3cd6a6"
      },
      "outputs": [
        {
          "output_type": "stream",
          "name": "stdout",
          "text": [
            "train() called: model=DNNModel, opt=SGD(lr=0.001000), epochs=20, device=cuda\n",
            "\n",
            "Epoch   1/ 20, train loss:  2.15, train acc:  0.25, val loss:  2.01, val acc:  0.30\n",
            "Epoch   2/ 20, train loss:  1.91, train acc:  0.34, val loss:  1.82, val acc:  0.36\n",
            "Epoch   4/ 20, train loss:  1.67, train acc:  0.41, val loss:  1.64, val acc:  0.43\n",
            "Epoch   6/ 20, train loss:  1.56, train acc:  0.46, val loss:  1.54, val acc:  0.46\n",
            "Epoch   8/ 20, train loss:  1.47, train acc:  0.49, val loss:  1.48, val acc:  0.48\n",
            "Epoch  10/ 20, train loss:  1.40, train acc:  0.51, val loss:  1.43, val acc:  0.50\n",
            "Epoch  12/ 20, train loss:  1.33, train acc:  0.54, val loss:  1.39, val acc:  0.52\n",
            "Epoch  14/ 20, train loss:  1.27, train acc:  0.56, val loss:  1.35, val acc:  0.53\n",
            "Epoch  16/ 20, train loss:  1.21, train acc:  0.58, val loss:  1.33, val acc:  0.54\n",
            "Epoch  18/ 20, train loss:  1.15, train acc:  0.61, val loss:  1.31, val acc:  0.54\n",
            "Epoch  20/ 20, train loss:  1.09, train acc:  0.63, val loss:  1.29, val acc:  0.55\n",
            "\n",
            "Time total:     1422.29 sec\n",
            "Time per epoch: 71.11 sec\n"
          ]
        }
      ],
      "source": [
        "clf1 = train(model1, optimizer,torch.nn.CrossEntropyLoss(), train_ds,test_ds, epochs=20, device=device)"
      ],
      "id": "4c692827"
    },
    {
      "cell_type": "markdown",
      "source": [
        "#Visualizing the results"
      ],
      "metadata": {
        "id": "RNsMZiIlwBAm"
      },
      "id": "RNsMZiIlwBAm"
    },
    {
      "cell_type": "code",
      "execution_count": 15,
      "metadata": {
        "colab": {
          "base_uri": "https://localhost:8080/",
          "height": 545
        },
        "id": "3774f981",
        "outputId": "dcdd6614-84c7-4792-c51e-a676b2f47400"
      },
      "outputs": [
        {
          "output_type": "display_data",
          "data": {
            "text/plain": [
              "<Figure size 432x288 with 1 Axes>"
            ],
            "image/png": "[encoded data removed]"
          },
          "metadata": {
            "needs_background": "light"
          }
        },
        {
          "output_type": "display_data",
          "data": {
            "text/plain": [
              "<Figure size 432x288 with 1 Axes>"
            ],
            "image/png": "[encoded data removed]"
          },
          "metadata": {
            "needs_background": "light"
          }
        }
      ],
      "source": [
        "acc = clf1['acc']\n",
        "val_acc = clf1['val_acc']\n",
        "loss = clf1['loss']\n",
        "val_loss = clf1['val_loss']\n",
        "epochs = range(1, len(acc) + 1)\n",
        "\n",
        "plt.plot(epochs, acc, 'g', label='Training acc')\n",
        "plt.plot(epochs, val_acc, 'r', label='Validation acc')\n",
        "plt.title('Training and validation accuracy')\n",
        "plt.legend()\n",
        "plt.figure()\n",
        "plt.plot(epochs, loss, 'g', label='Training loss')\n",
        "plt.plot(epochs, val_loss, 'r', label='Validation loss')\n",
        "plt.title('Training and validation loss')\n",
        "plt.legend()\n",
        "plt.show()"
      ],
      "id": "3774f981"
    },
    {
      "cell_type": "markdown",
      "source": [
        "#summary of both models \n"
      ],
      "metadata": {
        "id": "ymx9IAwRtxMp"
      },
      "id": "ymx9IAwRtxMp"
    },
    {
      "cell_type": "code",
      "execution_count": 16,
      "metadata": {
        "colab": {
          "base_uri": "https://localhost:8080/"
        },
        "id": "alrKIcgFLqCP",
        "outputId": "d1fc4287-e3af-4225-f83e-64aeeb04d40a"
      },
      "outputs": [
        {
          "output_type": "stream",
          "name": "stdout",
          "text": [
            "----------------------------------------------------------------\n",
            "        Layer (type)               Output Shape         Param #\n",
            "================================================================\n",
            "            Conv2d-1           [-1, 32, 64, 64]             896\n",
            "              ReLU-2           [-1, 32, 64, 64]               0\n",
            "         MaxPool2d-3           [-1, 32, 32, 32]               0\n",
            "            Conv2d-4           [-1, 64, 32, 32]          18,496\n",
            "              ReLU-5           [-1, 64, 32, 32]               0\n",
            "         MaxPool2d-6           [-1, 64, 16, 16]               0\n",
            "            Conv2d-7          [-1, 128, 16, 16]          73,856\n",
            "              ReLU-8          [-1, 128, 16, 16]               0\n",
            "         MaxPool2d-9            [-1, 128, 8, 8]               0\n",
            "           Conv2d-10            [-1, 256, 8, 8]         295,168\n",
            "             ReLU-11            [-1, 256, 8, 8]               0\n",
            "        MaxPool2d-12            [-1, 256, 4, 4]               0\n",
            "AdaptiveAvgPool2d-13            [-1, 256, 4, 4]               0\n",
            "          Dropout-14                 [-1, 4096]               0\n",
            "           Linear-15                 [-1, 2048]       8,390,656\n",
            "             ReLU-16                 [-1, 2048]               0\n",
            "          Dropout-17                 [-1, 2048]               0\n",
            "           Linear-18                 [-1, 1024]       2,098,176\n",
            "             ReLU-19                 [-1, 1024]               0\n",
            "           Linear-20                   [-1, 10]          10,250\n",
            "================================================================\n",
            "Total params: 10,887,498\n",
            "Trainable params: 10,887,498\n",
            "Non-trainable params: 0\n",
            "----------------------------------------------------------------\n",
            "Input size (MB): 0.05\n",
            "Forward/backward pass size (MB): 4.34\n",
            "Params size (MB): 41.53\n",
            "Estimated Total Size (MB): 45.92\n",
            "----------------------------------------------------------------\n",
            "----------------------------------------------------------------\n",
            "        Layer (type)               Output Shape         Param #\n",
            "================================================================\n",
            "            Linear-1                 [-1, 4096]      50,335,744\n",
            "              ReLU-2                 [-1, 4096]               0\n",
            "            Linear-3                 [-1, 4096]      16,781,312\n",
            "              ReLU-4                 [-1, 4096]               0\n",
            "            Linear-5                 [-1, 2048]       8,390,656\n",
            "              ReLU-6                 [-1, 2048]               0\n",
            "            Linear-7                   [-1, 10]          20,490\n",
            "              ReLU-8                   [-1, 10]               0\n",
            "================================================================\n",
            "Total params: 75,528,202\n",
            "Trainable params: 75,528,202\n",
            "Non-trainable params: 0\n",
            "----------------------------------------------------------------\n",
            "Input size (MB): 0.05\n",
            "Forward/backward pass size (MB): 0.16\n",
            "Params size (MB): 288.12\n",
            "Estimated Total Size (MB): 288.32\n",
            "----------------------------------------------------------------\n"
          ]
        }
      ],
      "source": [
        "from torchsummary import summary\n",
        "summary(model, (3, 64, 64))\n",
        "summary(model1, (3, 64, 64))"
      ],
      "id": "alrKIcgFLqCP"
    },
    {
      "cell_type": "code",
      "source": [
        ""
      ],
      "metadata": {
        "id": "Ezs06-v7BsDd"
      },
      "id": "Ezs06-v7BsDd",
      "execution_count": 16,
      "outputs": []
    }
  ],
  "metadata": {
    "accelerator": "GPU",
    "colab": {
      "collapsed_sections": [],
      "name": "smlproject.ipynb",
      "provenance": []
    },
    "kernelspec": {
      "display_name": "Python 3",
      "language": "python",
      "name": "python3"
    },
    "language_info": {
      "codemirror_mode": {
        "name": "ipython",
        "version": 3
      },
      "file_extension": ".py",
      "mimetype": "text/x-python",
      "name": "python",
      "nbconvert_exporter": "python",
      "pygments_lexer": "ipython3",
      "version": "3.7.3"
    },
    "papermill": {
      "default_parameters": {},
      "duration": 1929.969819,
      "end_time": "2022-04-05T04:34:01.228542",
      "environment_variables": {},
      "exception": null,
      "input_path": "__notebook__.ipynb",
      "output_path": "__notebook__.ipynb",
      "parameters": {},
      "start_time": "2022-04-05T04:01:51.258723",
      "version": "2.3.3"
    },
    "widgets": {
      "application/vnd.jupyter.widget-state+json": {
        "ef2c1ce2507c413a917007b047d68f15": {
          "model_module": "@jupyter-widgets/controls",
          "model_name": "HBoxModel",
          "model_module_version": "1.5.0",
          "state": {
            "_dom_classes": [],
            "_model_module": "@jupyter-widgets/controls",
            "_model_module_version": "1.5.0",
            "_model_name": "HBoxModel",
            "_view_count": null,
            "_view_module": "@jupyter-widgets/controls",
            "_view_module_version": "1.5.0",
            "_view_name": "HBoxView",
            "box_style": "",
            "children": [
              "IPY_MODEL_6150440238884068b67a400eed40a978",
              "IPY_MODEL_0fdca33454b34926a1b65f1c5917542e",
              "IPY_MODEL_6aa9d907a2a74f4a8d6f9d29d3874474"
            ],
            "layout": "IPY_MODEL_5e4d0e015443447ca1f84f38612441b5"
          }
        },
        "6150440238884068b67a400eed40a978": {
          "model_module": "@jupyter-widgets/controls",
          "model_name": "HTMLModel",
          "model_module_version": "1.5.0",
          "state": {
            "_dom_classes": [],
            "_model_module": "@jupyter-widgets/controls",
            "_model_module_version": "1.5.0",
            "_model_name": "HTMLModel",
            "_view_count": null,
            "_view_module": "@jupyter-widgets/controls",
            "_view_module_version": "1.5.0",
            "_view_name": "HTMLView",
            "description": "",
            "description_tooltip": null,
            "layout": "IPY_MODEL_46c62cc4ffa8442ebde4029783501c82",
            "placeholder": "​",
            "style": "IPY_MODEL_fbe70028e3c746e688d5a47c74b0ec4e",
            "value": ""
          }
        },
        "0fdca33454b34926a1b65f1c5917542e": {
          "model_module": "@jupyter-widgets/controls",
          "model_name": "FloatProgressModel",
          "model_module_version": "1.5.0",
          "state": {
            "_dom_classes": [],
            "_model_module": "@jupyter-widgets/controls",
            "_model_module_version": "1.5.0",
            "_model_name": "FloatProgressModel",
            "_view_count": null,
            "_view_module": "@jupyter-widgets/controls",
            "_view_module_version": "1.5.0",
            "_view_name": "ProgressView",
            "bar_style": "success",
            "description": "",
            "description_tooltip": null,
            "layout": "IPY_MODEL_88934cfb0fa14964aadedb863e0a1189",
            "max": 170498071,
            "min": 0,
            "orientation": "horizontal",
            "style": "IPY_MODEL_53e46d85df7b467789e779bbb7b12c7e",
            "value": 170498071
          }
        },
        "6aa9d907a2a74f4a8d6f9d29d3874474": {
          "model_module": "@jupyter-widgets/controls",
          "model_name": "HTMLModel",
          "model_module_version": "1.5.0",
          "state": {
            "_dom_classes": [],
            "_model_module": "@jupyter-widgets/controls",
            "_model_module_version": "1.5.0",
            "_model_name": "HTMLModel",
            "_view_count": null,
            "_view_module": "@jupyter-widgets/controls",
            "_view_module_version": "1.5.0",
            "_view_name": "HTMLView",
            "description": "",
            "description_tooltip": null,
            "layout": "IPY_MODEL_89f837d878f24f71b5c5add5eff33731",
            "placeholder": "​",
            "style": "IPY_MODEL_8343ab71988d432da7aae5cced7c9d15",
            "value": " 170499072/? [00:05&lt;00:00, 32324799.99it/s]"
          }
        },
        "5e4d0e015443447ca1f84f38612441b5": {
          "model_module": "@jupyter-widgets/base",
          "model_name": "LayoutModel",
          "model_module_version": "1.2.0",
          "state": {
            "_model_module": "@jupyter-widgets/base",
            "_model_module_version": "1.2.0",
            "_model_name": "LayoutModel",
            "_view_count": null,
            "_view_module": "@jupyter-widgets/base",
            "_view_module_version": "1.2.0",
            "_view_name": "LayoutView",
            "align_content": null,
            "align_items": null,
            "align_self": null,
            "border": null,
            "bottom": null,
            "display": null,
            "flex": null,
            "flex_flow": null,
            "grid_area": null,
            "grid_auto_columns": null,
            "grid_auto_flow": null,
            "grid_auto_rows": null,
            "grid_column": null,
            "grid_gap": null,
            "grid_row": null,
            "grid_template_areas": null,
            "grid_template_columns": null,
            "grid_template_rows": null,
            "height": null,
            "justify_content": null,
            "justify_items": null,
            "left": null,
            "margin": null,
            "max_height": null,
            "max_width": null,
            "min_height": null,
            "min_width": null,
            "object_fit": null,
            "object_position": null,
            "order": null,
            "overflow": null,
            "overflow_x": null,
            "overflow_y": null,
            "padding": null,
            "right": null,
            "top": null,
            "visibility": null,
            "width": null
          }
        },
        "46c62cc4ffa8442ebde4029783501c82": {
          "model_module": "@jupyter-widgets/base",
          "model_name": "LayoutModel",
          "model_module_version": "1.2.0",
          "state": {
            "_model_module": "@jupyter-widgets/base",
            "_model_module_version": "1.2.0",
            "_model_name": "LayoutModel",
            "_view_count": null,
            "_view_module": "@jupyter-widgets/base",
            "_view_module_version": "1.2.0",
            "_view_name": "LayoutView",
            "align_content": null,
            "align_items": null,
            "align_self": null,
            "border": null,
            "bottom": null,
            "display": null,
            "flex": null,
            "flex_flow": null,
            "grid_area": null,
            "grid_auto_columns": null,
            "grid_auto_flow": null,
            "grid_auto_rows": null,
            "grid_column": null,
            "grid_gap": null,
            "grid_row": null,
            "grid_template_areas": null,
            "grid_template_columns": null,
            "grid_template_rows": null,
            "height": null,
            "justify_content": null,
            "justify_items": null,
            "left": null,
            "margin": null,
            "max_height": null,
            "max_width": null,
            "min_height": null,
            "min_width": null,
            "object_fit": null,
            "object_position": null,
            "order": null,
            "overflow": null,
            "overflow_x": null,
            "overflow_y": null,
            "padding": null,
            "right": null,
            "top": null,
            "visibility": null,
            "width": null
          }
        },
        "fbe70028e3c746e688d5a47c74b0ec4e": {
          "model_module": "@jupyter-widgets/controls",
          "model_name": "DescriptionStyleModel",
          "model_module_version": "1.5.0",
          "state": {
            "_model_module": "@jupyter-widgets/controls",
            "_model_module_version": "1.5.0",
            "_model_name": "DescriptionStyleModel",
            "_view_count": null,
            "_view_module": "@jupyter-widgets/base",
            "_view_module_version": "1.2.0",
            "_view_name": "StyleView",
            "description_width": ""
          }
        },
        "88934cfb0fa14964aadedb863e0a1189": {
          "model_module": "@jupyter-widgets/base",
          "model_name": "LayoutModel",
          "model_module_version": "1.2.0",
          "state": {
            "_model_module": "@jupyter-widgets/base",
            "_model_module_version": "1.2.0",
            "_model_name": "LayoutModel",
            "_view_count": null,
            "_view_module": "@jupyter-widgets/base",
            "_view_module_version": "1.2.0",
            "_view_name": "LayoutView",
            "align_content": null,
            "align_items": null,
            "align_self": null,
            "border": null,
            "bottom": null,
            "display": null,
            "flex": null,
            "flex_flow": null,
            "grid_area": null,
            "grid_auto_columns": null,
            "grid_auto_flow": null,
            "grid_auto_rows": null,
            "grid_column": null,
            "grid_gap": null,
            "grid_row": null,
            "grid_template_areas": null,
            "grid_template_columns": null,
            "grid_template_rows": null,
            "height": null,
            "justify_content": null,
            "justify_items": null,
            "left": null,
            "margin": null,
            "max_height": null,
            "max_width": null,
            "min_height": null,
            "min_width": null,
            "object_fit": null,
            "object_position": null,
            "order": null,
            "overflow": null,
            "overflow_x": null,
            "overflow_y": null,
            "padding": null,
            "right": null,
            "top": null,
            "visibility": null,
            "width": null
          }
        },
        "53e46d85df7b467789e779bbb7b12c7e": {
          "model_module": "@jupyter-widgets/controls",
          "model_name": "ProgressStyleModel",
          "model_module_version": "1.5.0",
          "state": {
            "_model_module": "@jupyter-widgets/controls",
            "_model_module_version": "1.5.0",
            "_model_name": "ProgressStyleModel",
            "_view_count": null,
            "_view_module": "@jupyter-widgets/base",
            "_view_module_version": "1.2.0",
            "_view_name": "StyleView",
            "bar_color": null,
            "description_width": ""
          }
        },
        "89f837d878f24f71b5c5add5eff33731": {
          "model_module": "@jupyter-widgets/base",
          "model_name": "LayoutModel",
          "model_module_version": "1.2.0",
          "state": {
            "_model_module": "@jupyter-widgets/base",
            "_model_module_version": "1.2.0",
            "_model_name": "LayoutModel",
            "_view_count": null,
            "_view_module": "@jupyter-widgets/base",
            "_view_module_version": "1.2.0",
            "_view_name": "LayoutView",
            "align_content": null,
            "align_items": null,
            "align_self": null,
            "border": null,
            "bottom": null,
            "display": null,
            "flex": null,
            "flex_flow": null,
            "grid_area": null,
            "grid_auto_columns": null,
            "grid_auto_flow": null,
            "grid_auto_rows": null,
            "grid_column": null,
            "grid_gap": null,
            "grid_row": null,
            "grid_template_areas": null,
            "grid_template_columns": null,
            "grid_template_rows": null,
            "height": null,
            "justify_content": null,
            "justify_items": null,
            "left": null,
            "margin": null,
            "max_height": null,
            "max_width": null,
            "min_height": null,
            "min_width": null,
            "object_fit": null,
            "object_position": null,
            "order": null,
            "overflow": null,
            "overflow_x": null,
            "overflow_y": null,
            "padding": null,
            "right": null,
            "top": null,
            "visibility": null,
            "width": null
          }
        },
        "8343ab71988d432da7aae5cced7c9d15": {
          "model_module": "@jupyter-widgets/controls",
          "model_name": "DescriptionStyleModel",
          "model_module_version": "1.5.0",
          "state": {
            "_model_module": "@jupyter-widgets/controls",
            "_model_module_version": "1.5.0",
            "_model_name": "DescriptionStyleModel",
            "_view_count": null,
            "_view_module": "@jupyter-widgets/base",
            "_view_module_version": "1.2.0",
            "_view_name": "StyleView",
            "description_width": ""
          }
        }
      }
    }
  },
  "nbformat": 4,
  "nbformat_minor": 5
}